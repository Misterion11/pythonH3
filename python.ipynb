{
  "nbformat": 4,
  "nbformat_minor": 0,
  "metadata": {
    "colab": {
      "provenance": [],
      "toc_visible": true,
      "include_colab_link": true
    },
    "kernelspec": {
      "name": "python3",
      "display_name": "Python 3"
    },
    "language_info": {
      "name": "python"
    }
  },
  "cells": [
    {
      "cell_type": "markdown",
      "metadata": {
        "id": "view-in-github",
        "colab_type": "text"
      },
      "source": [
        "<a href=\"https://colab.research.google.com/github/Misterion11/pythonH3/blob/master/python.ipynb\" target=\"_parent\"><img src=\"https://colab.research.google.com/assets/colab-badge.svg\" alt=\"Open In Colab\"/></a>"
      ]
    },
    {
      "cell_type": "markdown",
      "source": [
        "Exercices d’algorithmique\n",
        "\n",
        "Benjamin Dallard\n",
        "\n",
        "September 12, 2022\n"
      ],
      "metadata": {
        "id": "9xNTFSfRHC6E"
      }
    },
    {
      "cell_type": "markdown",
      "source": [
        "**2 Algorythme**\n",
        "\n",
        "2.1 Conditions et produits\n",
        "\n",
        "Ecrire un algorithme qui demande deux nombres à l’utilisateur et l’informe en\n",
        "suite si leur produit est négatif ou positif (on laisse de côté le cas où le produit\n",
        "est nul). Attention toute fois : on ne doit pas calculer le produit des deux\n",
        "nombres.\n",
        "\n",
        "\n",
        "\n",
        "```\n",
        "Variables m, n en Entier\n",
        "Début\n",
        "Ecrire \"Entrez deux nombres : \"\n",
        "Lire m, n\n",
        "Si (m > 0 ET n > 0) OU (m < 0 ET n < 0) Alors\n",
        "  Ecrire \"Leur produit est positif\"\n",
        "Sinon\n",
        "  Ecrire \"Leur produit est négatif\"\n",
        "Finsi\n",
        "Fin\n",
        "```\n",
        "\n",
        "\n",
        "\n",
        "\n"
      ],
      "metadata": {
        "id": "e-ovbFR9HGtb"
      }
    },
    {
      "cell_type": "code",
      "source": [
        "a = int(input (\"Entrez votre variable 1 : \"))\n",
        "b = int(input (\"Entrez votre variable 2 : \"))\n",
        "if a > 0 and b > 0 or a < 0 and b < 0:\n",
        "    print('Leur produit est positif')\n",
        "else:\n",
        "   print('Leur produit est négatif')"
      ],
      "metadata": {
        "colab": {
          "base_uri": "https://localhost:8080/"
        },
        "id": "K6IA69GGHJrg",
        "outputId": "7947d65b-b9c2-4bfc-c627-114ee0d3eae5"
      },
      "execution_count": null,
      "outputs": [
        {
          "output_type": "stream",
          "name": "stdout",
          "text": [
            "Entrez votre variable 1 : 3\n",
            "Entrez votre variable 2 : 3\n",
            "Leur produit est positif\n"
          ]
        }
      ]
    },
    {
      "cell_type": "markdown",
      "source": [
        "2.2 Additivité\n",
        "\n",
        "Ecrire un algorithme qui demande un nombre de départ, et qui calcule la somme\n",
        "des entiers jusqu'à ce nombre. Par exemple, si l’on entre 5, le programme doit\n",
        "calculer : 1 + 2 + 3 + 4 + 5 = 15.\n",
        "\n",
        "\n",
        "\n",
        "\n",
        "```\n",
        "Variables N, i, Som en Entier\n",
        "Debut\n",
        "Ecrire \"Entrez un nombre : \"\n",
        "Lire N\n",
        "Som ← 0\n",
        "Pour i ← 1 à N\n",
        "  Som ← Som + i\n",
        "i Suivant\n",
        "Ecrire \"La somme est : \", Som\n",
        "Fin\n",
        "```\n",
        "\n"
      ],
      "metadata": {
        "id": "05kiwwJYHdbD"
      }
    },
    {
      "cell_type": "code",
      "source": [
        "a = int(input (\"Entrez un nombre : \"))\n",
        "sum = 0\n",
        "for i in range(a + 1):\n",
        "    sum = sum + i\n",
        "    i + 1\n",
        "print (\"la somme est \", sum)"
      ],
      "metadata": {
        "colab": {
          "base_uri": "https://localhost:8080/"
        },
        "id": "k6VoPp2SHeAe",
        "outputId": "1036691d-803c-4e1e-a01f-a60dee34e26a"
      },
      "execution_count": null,
      "outputs": [
        {
          "output_type": "stream",
          "name": "stdout",
          "text": [
            "Entrez un nombre : 3\n",
            "la somme est  6\n"
          ]
        }
      ]
    },
    {
      "cell_type": "markdown",
      "source": [
        "2.3 Somme des  ́éléments d’un tableau\n",
        "\n",
        "Ecrire un algorithme calculant la somme des valeurs d’un tableau (on suppose\n",
        "bien sur que le tableau a été préalablement saisi)."
      ],
      "metadata": {
        "id": "94jknJsEHp8M"
      }
    },
    {
      "cell_type": "code",
      "source": [
        "tab = []\n",
        "del sum\n",
        "a = int(input(\"Combien de valeurs ? \"))\n",
        "for i in range(a):\n",
        "  num = int(input(\"Entrez votre nombre : \"))\n",
        "  tab.append(num)\n",
        "listSum = sum(tab)\n",
        "print(\"la somme des valeurs de la liste est : \" , listSum)"
      ],
      "metadata": {
        "colab": {
          "base_uri": "https://localhost:8080/"
        },
        "id": "TLJzpa9FHqca",
        "outputId": "7455d4af-d4da-40b3-a13d-b9c25966fc94"
      },
      "execution_count": null,
      "outputs": [
        {
          "output_type": "stream",
          "name": "stdout",
          "text": [
            "Combien de valeurs ? 3\n",
            "Entrez votre nombre : 3\n",
            "Entrez votre nombre : 3\n",
            "Entrez votre nombre : 3\n",
            "la somme des valeurs de la liste est :  9\n"
          ]
        }
      ]
    },
    {
      "cell_type": "markdown",
      "source": [
        "2.4 FacProduct\n",
        "\n",
        "Toujours à partir de deux tableaux précédemment saisis, écrire un algorithme\n",
        "qui calcule le ’FacProduct’ des deux tableaux. Pour calculer le ’FacProduct’, il\n",
        "faut multiplier deux à deux les  ́éléments des tableaux et additionner le tout (le\n",
        "résultat final doit donc est un réel).\n",
        "\n"
      ],
      "metadata": {
        "id": "1QAUkPw-IHuL"
      }
    },
    {
      "cell_type": "code",
      "source": [
        "tab1 = []\n",
        "tab2 = []\n",
        "a = int(input(\"Combien de nombre dans le tableau 1 ? \"))\n",
        "for i in range(a):\n",
        "  num = int(input(\"Entrez vos nombres : \"))\n",
        "  tab1.append(num)\n",
        "print (\"Votre tableau 1 : \", tab1)\n",
        "\n",
        "b = int(input(\"Combien de nombre dans le tableau 2 ? \"))\n",
        "for j in range(b):\n",
        "  num = int(input(\"Entrez vos nombres : \"))\n",
        "  tab2.append(num)\n",
        "print (\"Votre tableau 2 : \", tab2)\n",
        "\n",
        "resultat = 0\n",
        "for x in range(len(tab1)) :\n",
        "  for w in range(len(tab2)) :\n",
        "    res = tab1[x]*tab2[w]\n",
        "    resultat += res\n",
        "\n",
        "print (\"Résultat :\",resultat)\n"
      ],
      "metadata": {
        "colab": {
          "base_uri": "https://localhost:8080/"
        },
        "id": "LC0ppYlqILyU",
        "outputId": "c4324855-6265-4229-872f-0dcfba023f16"
      },
      "execution_count": null,
      "outputs": [
        {
          "output_type": "stream",
          "name": "stdout",
          "text": [
            "Combien de nombre dans le tableau 1 ? 3\n",
            "Entrez vos nombres : 3\n",
            "Entrez vos nombres : 3\n",
            "Entrez vos nombres : 3\n",
            "Votre tableau 1 :  [3, 3, 3]\n",
            "Combien de nombre dans le tableau 2 ? 3\n",
            "Entrez vos nombres : 3\n",
            "Entrez vos nombres : 3\n",
            "Entrez vos nombres : 3\n",
            "Votre tableau 2 :  [3, 3, 3]\n",
            "Résultat : 81\n"
          ]
        }
      ]
    },
    {
      "cell_type": "markdown",
      "source": [
        "2.5 Le plus grand\n",
        "Ecrire un algorithme permettant à l’utilisateur de renvoyer la plus grande valeur\n",
        "du tableau passer en input en précisant quelle position elle occupe dans le\n",
        "tableau.\n"
      ],
      "metadata": {
        "id": "qZ0BmI7OOQvb"
      }
    },
    {
      "cell_type": "code",
      "source": [
        "tab3 = []\n",
        "\n",
        "a = int(input(\"Combien de nombre dans le tableau ? \"))\n",
        "for i in range(a):\n",
        "  num = int(input(\"Entrez vos nombres : \"))\n",
        "  tab3.append(num)\n",
        "print (\"Votre tableau : \", tab3)\n",
        "\n",
        "max_value = max(tab3)\n",
        "print('La plus grande valeur est : ', max_value, \" A l'index:\", tab3.index(max_value))\n"
      ],
      "metadata": {
        "colab": {
          "base_uri": "https://localhost:8080/"
        },
        "id": "hbsrSL4TORsE",
        "outputId": "9b7c57c7-cffb-480b-ac2e-76ef6ee56bb0"
      },
      "execution_count": null,
      "outputs": [
        {
          "output_type": "stream",
          "name": "stdout",
          "text": [
            "Combien de nombre dans le tableau ? 3\n",
            "Entrez vos nombres : 5\n",
            "Entrez vos nombres : 6\n",
            "Entrez vos nombres : 7\n",
            "Votre tableau :  [5, 6, 7]\n",
            "La plus grande valeur est :  7  At index: 2\n"
          ]
        }
      ]
    },
    {
      "cell_type": "markdown",
      "source": [
        "2.6 Plus grand que la moyenne\n",
        "\n",
        "Ecrire un algorithme permettant à l’utilisateur de renvoyer le nombre de valeur\n",
        "supérieures à la moyenne d’un tableau passé en input de taille n.\n"
      ],
      "metadata": {
        "id": "qL7C-EJDQjag"
      }
    },
    {
      "cell_type": "code",
      "source": [
        "tab4 = []\n",
        "\n",
        "a = int(input(\"Combien de nombre dans le tableau ? \"))\n",
        "for i in range(a):\n",
        "  num = int(input(\"Entrez vos nombres : \"))\n",
        "  tab4.append(num)\n",
        "print (\"Votre tableau : \", tab4)\n",
        "\n",
        "moyenne = sum(tab4)/len(tab4)\n",
        "print (\"La moyenne du tableau est : \",moyenne)\n",
        "\n",
        "cpt=0\n",
        "for i in range (len(tab4)):\n",
        "  if tab4[i] > moyenne :\n",
        "    cpt += 1 \n",
        "print (\"Le nombre de valeur supérieur à la moyenne est : \", cpt)"
      ],
      "metadata": {
        "colab": {
          "base_uri": "https://localhost:8080/"
        },
        "id": "05jUKvhqQkI0",
        "outputId": "d58849fd-db39-4bd9-e33c-9fcbc43f4c87"
      },
      "execution_count": null,
      "outputs": [
        {
          "output_type": "stream",
          "name": "stdout",
          "text": [
            "Combien de nombre dans le tableau ? 5\n",
            "Entrez vos nombres : 1\n",
            "Entrez vos nombres : 2\n",
            "Entrez vos nombres : 3\n",
            "Entrez vos nombres : 4\n",
            "Entrez vos nombres : 5\n",
            "Votre tableau :  [1, 2, 3, 4, 5]\n",
            "La moyenne du tableau est :  3.0\n",
            "Le nombre de valeur supérieur à la moyenne est :  2\n"
          ]
        }
      ]
    },
    {
      "cell_type": "markdown",
      "source": [
        "2.7 Multiplier des vecteurs\n",
        "\n",
        "Ecrire un algorithme permettant d’effectuer la multiplication de deux vecteurs\n",
        "de taille N connue à l’avance et d’afficher le résultat."
      ],
      "metadata": {
        "id": "XI4qqxn4Ts94"
      }
    },
    {
      "cell_type": "code",
      "source": [
        "a = [1,2,3]\n",
        "b = [4,5,6]\n",
        "result = []\n",
        "\n",
        "for i in range (len(a)):\n",
        "  result.append(a[i]*b[i])\n",
        "print(result)\n",
        "\n"
      ],
      "metadata": {
        "id": "jinQ9-9uTsUd",
        "colab": {
          "base_uri": "https://localhost:8080/"
        },
        "outputId": "050296ec-77f8-4e54-8761-15788601849e"
      },
      "execution_count": null,
      "outputs": [
        {
          "output_type": "stream",
          "name": "stdout",
          "text": [
            "[4, 10, 18]\n"
          ]
        }
      ]
    },
    {
      "cell_type": "markdown",
      "source": [
        "2.8 Tris\n",
        "\n",
        "Écrire un algorithme permettant de trier un tableau de taille n."
      ],
      "metadata": {
        "id": "AROWbtt2Hlyv"
      }
    },
    {
      "cell_type": "code",
      "source": [
        "a = [5, 2, 3, 1, 4]\n",
        "a.sort()\n",
        "a"
      ],
      "metadata": {
        "colab": {
          "base_uri": "https://localhost:8080/"
        },
        "id": "fZu6vOHdHmyQ",
        "outputId": "5968a859-93a2-402c-ef93-c61524456b32"
      },
      "execution_count": null,
      "outputs": [
        {
          "output_type": "execute_result",
          "data": {
            "text/plain": [
              "[1, 2, 3, 4, 5]"
            ]
          },
          "metadata": {},
          "execution_count": 10
        }
      ]
    },
    {
      "cell_type": "markdown",
      "source": [
        "2.9 Factorielle\n",
        "\n",
        "Ecrire un algorithme qui demande un nombre de départ, et qui calcule sa\n",
        "factorielle. On rappel qu’on calcul factorielle n tel que : n! = ∏\n",
        "1in i =\n",
        "1 ×2 ×3 ×... ×(n −1) ×n.. Par exemple 4! = 1 ×2 ×3 ×4"
      ],
      "metadata": {
        "id": "W2DOXLpuH3HG"
      }
    },
    {
      "cell_type": "code",
      "source": [
        "nbr = int(input('Entrez un nombre : '))\n",
        "fact = 1\n",
        "for i in range(1, nbr+1):\n",
        "  fact = fact * i\n",
        "print (nbr,'! = ',fact)"
      ],
      "metadata": {
        "colab": {
          "base_uri": "https://localhost:8080/"
        },
        "id": "75qkXrmpH6xw",
        "outputId": "d3fba062-8ffe-445e-ba14-cbafe67b5388"
      },
      "execution_count": null,
      "outputs": [
        {
          "output_type": "stream",
          "name": "stdout",
          "text": [
            "Entrez un nombre : 3\n",
            "3 ! =  6\n"
          ]
        }
      ]
    },
    {
      "cell_type": "markdown",
      "source": [
        "2.10 La multiplication matricielle\n",
        "\n",
        "Ecrire un algorithme qui prend deux matrices carrées A et B de taille n et qui\n",
        "renvoie un élément ci,j (l’élement de la ligne i colonne j) de la matrice C tel\n",
        "que, A ×B = C."
      ],
      "metadata": {
        "id": "ehT6T-ixIO4Z"
      }
    },
    {
      "cell_type": "code",
      "source": [
        "import numpy as np\n",
        "\n",
        "A=np.array([[1,2],[3,4],[5,6]]) \n",
        "B=np.array([[1,2,3],[3,4,5]])\n",
        "np.dot(A,B)"
      ],
      "metadata": {
        "colab": {
          "base_uri": "https://localhost:8080/"
        },
        "id": "GmZoC-2FISMU",
        "outputId": "383795f6-b41a-4d77-8588-70a6e43b21bf"
      },
      "execution_count": null,
      "outputs": [
        {
          "output_type": "execute_result",
          "data": {
            "text/plain": [
              "array([[ 7, 10, 13],\n",
              "       [15, 22, 29],\n",
              "       [23, 34, 45]])"
            ]
          },
          "metadata": {},
          "execution_count": 13
        }
      ]
    },
    {
      "cell_type": "markdown",
      "source": [
        "2.11 Suite de Fibonacci\n",
        "\n",
        "La suite de Fibonacci est d ́efinit récursivement par F0 = 0 , F1 = 1 et Fn+2 =\n",
        "Fn+1 + Fn pour n ≥0. Ecrire une fonction FIBO(n) qui implémente la formule\n",
        "ci-dessus."
      ],
      "metadata": {
        "id": "hIyoO84IJZoU"
      }
    },
    {
      "cell_type": "code",
      "source": [
        "# Programme pour générer la suite de Fibonacci en utilisant la récursivité\n",
        "\n",
        "def fibonacci(n):\n",
        "    if(n <= 1):\n",
        "        return n\n",
        "    else:\n",
        "        return (fibonacci(n-1) + fibonacci(n-2))\n",
        "\n",
        "n = int(input(\"Entrez le nombre de termes:\"))\n",
        "\n",
        "print(\"Suite de Fibonacci en utilisant la recursion :\")\n",
        "for i in range(n):\n",
        "    print(fibonacci(i))"
      ],
      "metadata": {
        "id": "gtvSs685JdeC",
        "outputId": "285bbafb-ca95-45e3-b216-4fbc207578eb",
        "colab": {
          "base_uri": "https://localhost:8080/"
        }
      },
      "execution_count": null,
      "outputs": [
        {
          "output_type": "stream",
          "name": "stdout",
          "text": [
            "Entrez le nombre de termes:10\n",
            "Suite de Fibonacci en utilisant la recursion :\n",
            "0\n",
            "1\n",
            "1\n",
            "2\n",
            "3\n",
            "5\n",
            "8\n",
            "13\n",
            "21\n",
            "34\n"
          ]
        }
      ]
    },
    {
      "cell_type": "markdown",
      "source": [
        "2.12 Le temps d’arrêt\n",
        "\n",
        "On note Hn la somme Hn = ∑n\n",
        "k=1 1\n",
        "k . On admet que H tend vers +∞.  ́Ecrire\n",
        "un algorithme qui détermine le plus petit entier n tel que (H) dépasse un réel\n",
        "α donné."
      ],
      "metadata": {
        "id": "maNYCrY3KXpO"
      }
    },
    {
      "cell_type": "markdown",
      "source": [
        "\n",
        "\n",
        "```\n",
        "n=0\n",
        "H=0\n",
        "Tant que (H<a) faire\n",
        "  n=n+1\n",
        "  H=H+1/n\n",
        "Fin tant que\n",
        "Afficher n.  \n",
        "```\n",
        "\n"
      ],
      "metadata": {
        "id": "TIj2dFPhLShU"
      }
    }
  ]
}