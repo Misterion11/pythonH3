{
 "cells": [
  {
   "cell_type": "markdown",
   "metadata": {},
   "source": [
    "Exercice de python :"
   ]
  },
  {
   "cell_type": "markdown",
   "metadata": {},
   "source": [
    "Exercice 2\n",
    "\n",
    "2.1 \n",
    "Variables m, n en Entier \n",
    "Début \n",
    "Ecrire \"Entrez deux nombres : \" \n",
    "Lire m, n \n",
    "Si (m > 0 ET n > 0) OU (m < 0 ET n < 0) \n",
    "  Alors Ecrire \"Leur produit est positif\" \n",
    "Sinon\n",
    "  Ecrire \"Leur produit est négatif\"\n",
    "Finsi \n",
    "Fin "
   ]
  },
  {
   "cell_type": "code",
   "execution_count": 24,
   "metadata": {},
   "outputs": [
    {
     "name": "stdout",
     "output_type": "stream",
     "text": [
      "Leur produit est positif\n"
     ]
    }
   ],
   "source": [
    "a = int(input (\"Entrez votre variable 1 : \"))\n",
    "b = int(input (\"Entrez votre variable 2 : \"))\n",
    "if a > 0 and b > 0 or a < 0 and b < 0: \n",
    "    print('Leur produit est positif')\n",
    "else:\n",
    "   print('Leur produit est négatif')"
   ]
  },
  {
   "cell_type": "markdown",
   "metadata": {},
   "source": [
    "2.2 \n",
    "Variables N, i, Som en Entier \n",
    "Debut \n",
    "Ecrire \"Entrez un nombre : \" \n",
    "Lire N \n",
    "Som ← 0 \n",
    "Pour i ← 1 à N \n",
    "Som ← Som + i \n",
    "i Suivant \n",
    "Ecrire \"La somme est : \", Som Fin "
   ]
  },
  {
   "cell_type": "code",
   "execution_count": 25,
   "metadata": {},
   "outputs": [
    {
     "name": "stdout",
     "output_type": "stream",
     "text": [
      "la somme est  3\n"
     ]
    }
   ],
   "source": [
    "a = int(input (\"Entrez un nombre : \"))\n",
    "sum = 0\n",
    "for i in range(a + 1):\n",
    "    sum = sum + i\n",
    "    i + 1\n",
    "print (\"la somme est \", sum)"
   ]
  },
  {
   "cell_type": "markdown",
   "metadata": {},
   "source": [
    "2.3 \n",
    "Variables a, num, i En Entier, tab en Array\n",
    "Debut\n",
    "Ecrire \"Combien de valeurs ?\"\n",
    "a <- \n",
    "Pour i <- 1 à a\n",
    "  Ecrire \"Entrez votre nombre :\"\n",
    "  num <- \n",
    "  Ajouter num à tab\n",
    "listSum <- sum(tab)\n",
    "Lire listSum "
   ]
  },
  {
   "cell_type": "code",
   "execution_count": 26,
   "metadata": {},
   "outputs": [
    {
     "name": "stdout",
     "output_type": "stream",
     "text": [
      "4\n"
     ]
    }
   ],
   "source": [
    "tab = []\n",
    "a = int(input(\"Combien de valeurs ? \"))\n",
    "for i in range(a):\n",
    "  num = int(input(\"Entrez votre nombre : \"))\n",
    "  tab.append(num)\n",
    "del sum\n",
    "listSum = sum(tab)\n",
    "print(listSum)"
   ]
  },
  {
   "cell_type": "markdown",
   "metadata": {},
   "source": [
    "2.4 "
   ]
  }
 ],
 "metadata": {
  "kernelspec": {
   "display_name": "Python 3.9.13 64-bit (microsoft store)",
   "language": "python",
   "name": "python3"
  },
  "language_info": {
   "codemirror_mode": {
    "name": "ipython",
    "version": 3
   },
   "file_extension": ".py",
   "mimetype": "text/x-python",
   "name": "python",
   "nbconvert_exporter": "python",
   "pygments_lexer": "ipython3",
   "version": "3.9.13"
  },
  "orig_nbformat": 4,
  "vscode": {
   "interpreter": {
    "hash": "7a933b2a6a5f3d67f31478974805927d3dfd9cdc8564d519af7dfa37a137033f"
   }
  }
 },
 "nbformat": 4,
 "nbformat_minor": 2
}
