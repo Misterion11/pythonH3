{
  "cells": [
    {
      "cell_type": "markdown",
      "metadata": {
        "id": "view-in-github",
        "colab_type": "text"
      },
      "source": [
        "<a href=\"https://colab.research.google.com/github/Misterion11/pythonH3/blob/master/ExoPython.ipynb\" target=\"_parent\"><img src=\"https://colab.research.google.com/assets/colab-badge.svg\" alt=\"Open In Colab\"/></a>"
      ]
    },
    {
      "cell_type": "markdown",
      "metadata": {
        "id": "2eELsoRswutP"
      },
      "source": [
        "Exercice de python :"
      ]
    },
    {
      "cell_type": "markdown",
      "metadata": {
        "id": "BMoO2eX5wutQ"
      },
      "source": [
        "Exercice 2\n",
        "\n",
        "2.1 \n",
        "Variables m, n en Entier \n",
        "Début \n",
        "Ecrire \"Entrez deux nombres : \" \n",
        "Lire m, n \n",
        "Si (m > 0 ET n > 0) OU (m < 0 ET n < 0) \n",
        "  Alors Ecrire \"Leur produit est positif\" \n",
        "Sinon\n",
        "  Ecrire \"Leur produit est négatif\"\n",
        "Finsi \n",
        "Fin "
      ]
    },
    {
      "cell_type": "code",
      "execution_count": null,
      "metadata": {
        "id": "uv9pHDKNwutS",
        "outputId": "37935886-b568-451e-e277-cc969ed44b1b"
      },
      "outputs": [
        {
          "name": "stdout",
          "output_type": "stream",
          "text": [
            "1\n",
            "1\n",
            "Leur produit est positif\n"
          ]
        }
      ],
      "source": [
        "a = int(input (\"Entrez votre variable 1 : \"))\n",
        "b = int(input (\"Entrez votre variable 2 : \"))\n",
        "print(a)\n",
        "print(b)\n",
        "if a > 0 and b > 0 or a < 0 and b < 0: \n",
        "    print('Leur produit est positif')\n",
        "else:\n",
        "   print('Leur produit est négatif')"
      ]
    },
    {
      "cell_type": "markdown",
      "metadata": {
        "id": "Sqa9ITX7wutU"
      },
      "source": [
        "2.2 \n",
        "Variables N, i, Som en Entier \n",
        "Debut \n",
        "Ecrire \"Entrez un nombre : \" \n",
        "Lire N \n",
        "Som ← 0 \n",
        "Pour i ← 1 à N \n",
        "Som ← Som + i \n",
        "i Suivant \n",
        "Ecrire \"La somme est : \", Som Fin "
      ]
    },
    {
      "cell_type": "code",
      "execution_count": null,
      "metadata": {
        "id": "R3979csNwutU",
        "outputId": "cd792705-e147-4fe7-8000-62e97784c369"
      },
      "outputs": [
        {
          "name": "stdout",
          "output_type": "stream",
          "text": [
            "1\n",
            "la somme est  1\n"
          ]
        }
      ],
      "source": [
        "a = int(input (\"Entrez un nombre : \"))\n",
        "print(a)\n",
        "sum = 0\n",
        "for i in range(a + 1):\n",
        "    sum = sum + i\n",
        "    i + 1\n",
        "print (\"la somme est \", sum)"
      ]
    },
    {
      "cell_type": "markdown",
      "metadata": {
        "id": "eKMTWyfhwutV"
      },
      "source": [
        "2.3 \n",
        "Variables a, num, i En Entier, tab en Array\n",
        "Debut\n",
        "Ecrire \"Combien de valeurs ?\"\n",
        "a <- \n",
        "Pour i <- 1 à a\n",
        "  Ecrire \"Entrez votre nombre :\"\n",
        "  num <- \n",
        "  Ajouter num à tab\n",
        "listSum <- sum(tab)\n",
        "Lire listSum "
      ]
    },
    {
      "cell_type": "code",
      "execution_count": null,
      "metadata": {
        "id": "0JdDzm-NwutW",
        "outputId": "7bea2a83-daa5-4da2-a6f8-79ea26335504"
      },
      "outputs": [
        {
          "name": "stdout",
          "output_type": "stream",
          "text": [
            "1\n",
            "1\n"
          ]
        }
      ],
      "source": [
        "tab = []\n",
        "a = int(input(\"Combien de valeurs ? \"))\n",
        "print(a)\n",
        "for i in range(a):\n",
        "  num = int(input(\"Entrez votre nombre : \"))\n",
        "  tab.append(num)\n",
        "del sum\n",
        "listSum = sum(tab)\n",
        "print(listSum)"
      ]
    },
    {
      "cell_type": "markdown",
      "metadata": {
        "id": "-1xzwZTFwutX"
      },
      "source": [
        "2.4 "
      ]
    },
    {
      "cell_type": "code",
      "execution_count": null,
      "metadata": {
        "id": "N02tmHIewutX",
        "outputId": "b7010d8d-cef9-43f6-e4b4-6b8590cd42ec"
      },
      "outputs": [
        {
          "name": "stdout",
          "output_type": "stream",
          "text": [
            "Tableau 1 : [2, 2]\n",
            "Tableau 2 :  [2, 2]\n",
            "Resultat: 16\n"
          ]
        }
      ],
      "source": [
        "tab2 = []\n",
        "tab3 = []\n",
        "a = int(input(\"Combien de valeurs ? \"))\n",
        "for i in range(a):\n",
        "  num = int(input(\"Entrez votre nombre : \"))\n",
        "  tab2.append(num)\n",
        "print(\"Tableau 1 :\", tab2)\n",
        "b = int(input(\"Combien de valeurs ? \"))\n",
        "for j in range(b):\n",
        "  num = int(input(\"Entrez votre nombre : \"))\n",
        "  tab3.append(num)\n",
        "print(\"Tableau 2 : \", tab3)\n",
        "resul = 0\n",
        "for i in range(len(tab2)):\n",
        "  for j in range(len(tab3)):\n",
        "    res = tab2[i]*tab3[j]\n",
        "    resul+= res\n",
        "print(\"Resultat:\", resul)"
      ]
    },
    {
      "cell_type": "markdown",
      "metadata": {
        "id": "EiviqazuwutY"
      },
      "source": [
        "2.5"
      ]
    },
    {
      "cell_type": "code",
      "execution_count": null,
      "metadata": {
        "id": "20C_qs4UwutY",
        "outputId": "fa1dc665-e907-4e70-b0ce-e75ead4a7d46"
      },
      "outputs": [
        {
          "name": "stdout",
          "output_type": "stream",
          "text": [
            "Tableau 1 : [1, 2, 85, 62, 84]\n",
            "Maximum value: 85 A la position :  2 du tableau\n"
          ]
        }
      ],
      "source": [
        "tab4 = []\n",
        "a = int(input(\"Combien de valeurs ? \"))\n",
        "for i in range(a):\n",
        "  num = int(input(\"Entrez votre nombre : \"))\n",
        "  tab4.append(num)\n",
        "print(\"Tableau 1 :\", tab4)\n",
        "valueMax = max(tab4)\n",
        "print('Maximum value:', valueMax, \"A l'index :\", tab4.index(valueMax), \"du tableau\")"
      ]
    },
    {
      "cell_type": "markdown",
      "metadata": {
        "id": "WZL6XeWowutZ"
      },
      "source": [
        "2.6 Moyenne"
      ]
    },
    {
      "cell_type": "code",
      "execution_count": null,
      "metadata": {
        "id": "gFXaSxFuwutZ",
        "outputId": "d0956bfe-6690-469f-e022-4f3a973fd78e"
      },
      "outputs": [
        {
          "name": "stdout",
          "output_type": "stream",
          "text": [
            "Tableau 1 : [1, 2, 3, 4, 5]\n",
            "La moyenne est : 3.0\n",
            "Il existe 2 nombres supérieurs à la moyenne\n"
          ]
        }
      ],
      "source": [
        "tab5 = []\n",
        "a = int(input(\"Combien de valeurs ? \"))\n",
        "for i in range(a):\n",
        "  num = int(input(\"Entrez votre nombre : \"))\n",
        "  tab5.append(num)\n",
        "print(\"Tableau 1 :\", tab5)\n",
        "moyenne = (sum(tab5)/len(tab5))\n",
        "print(\"La moyenne est :\", moyenne)\n",
        "cpt = 0\n",
        "for j in range(len(tab5)):\n",
        "  if tab5[j] > moyenne:\n",
        "    cpt += 1\n",
        "print(\"Il existe\", cpt, \"nombres supérieurs à la moyenne\")"
      ]
    },
    {
      "cell_type": "markdown",
      "metadata": {
        "id": "vT-2KbWLwuta"
      },
      "source": [
        "2.7 Vecteurs"
      ]
    },
    {
      "cell_type": "code",
      "execution_count": 1,
      "metadata": {
        "colab": {
          "base_uri": "https://localhost:8080/"
        },
        "id": "qhOCBVpZwuta",
        "outputId": "0506ff9d-7eed-4a1b-9387-6d41d239cef7"
      },
      "outputs": [
        {
          "output_type": "stream",
          "name": "stdout",
          "text": [
            "[1 2 3]\n",
            "[2 5 8]\n",
            "36\n"
          ]
        }
      ],
      "source": [
        "import numpy as np\n",
        "\n",
        "a = np.array([1,2,3])\n",
        "b = np.array([2,5,8])\n",
        "\n",
        "print(a)\n",
        "print(b)\n",
        "\n",
        "resultat = np.dot(a,b)\n",
        "print(resultat)\n"
      ]
    }
  ],
  "metadata": {
    "kernelspec": {
      "display_name": "Python 3.9.12 64-bit ('Anaconda3')",
      "language": "python",
      "name": "python3"
    },
    "language_info": {
      "codemirror_mode": {
        "name": "ipython",
        "version": 3
      },
      "file_extension": ".py",
      "mimetype": "text/x-python",
      "name": "python",
      "nbconvert_exporter": "python",
      "pygments_lexer": "ipython3",
      "version": "3.9.12"
    },
    "orig_nbformat": 4,
    "vscode": {
      "interpreter": {
        "hash": "6f465d964a86e69b6c3b9ca585452f862d3efe5ecb916630db109d430f7473e7"
      }
    },
    "colab": {
      "provenance": [],
      "include_colab_link": true
    }
  },
  "nbformat": 4,
  "nbformat_minor": 0
}